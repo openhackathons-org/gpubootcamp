{
 "cells": [
  {
   "cell_type": "markdown",
   "metadata": {},
   "source": [
    "## Introduction to OpenACC Tutorial\n",
    "\n",
    "### Learning Objectives\n",
    "\n",
    "Learn how to program GPUs with OpenACC though hands on experience.\n",
    "\n",
    "### Tutorial Outline\n",
    "- Lab 1: Introduction to OpenACC ([Lab 1](./Lab1.ipynb))\n",
    "    - What is OpenACC and Why Should You Care?\n",
    "    - Profile-driven Development\n",
    "    - First Steps with OpenACC\n",
    "    - Introduction to Parallel directive\n",
    "    - How to compile a serial application with PGI compiler\n",
    "- Lab 2: OpenACC Data Management ([Lab 2](./Lab2.ipynb))\n",
    "    * OpenACC Data Management\n",
    "    * OpenACC data directive/clauses\n",
    "    * OpenACC update directive\n",
    "- Lab 3 : Loop Optimizations with OpenACC ([Lab 3](./Lab3.ipynb))\n",
    "    * Collapse clause\n",
    "    * Tile clause\n",
    "    * Gang Worker Vector\n",
    "\n",
    "\n",
    "### Tutorial Duration\n",
    "The lab material will be presented in a 3hr session. Link to material is available for download at the end of the lab.\n",
    "\n",
    "### Content Level\n",
    "Beginner, Intermediate\n",
    "\n",
    "### Target Audience and Prerequisites\n",
    "The target audience for this lab is researchers/graduate students and developers who are interested in learning about programming GPUs with OpenACC.\n",
    "\n",
    "Programming experience with C/C++ or Fortran is desirable.\n",
    "\n",
    "--- \n",
    "\n",
    "## Licensing \n",
    "\n",
    "This material is released by OpenACC-Standard.org, in collaboration with NVIDIA Corporation, under the Creative Commons Attribution 4.0 International (CC BY 4.0). "
   ]
  }
 ],
 "metadata": {
  "kernelspec": {
   "display_name": "Python 3",
   "language": "python",
   "name": "python3"
  },
  "language_info": {
   "codemirror_mode": {
    "name": "ipython",
    "version": 3
   },
   "file_extension": ".py",
   "mimetype": "text/x-python",
   "name": "python",
   "nbconvert_exporter": "python",
   "pygments_lexer": "ipython3",
   "version": "3.8.5"
  }
 },
 "nbformat": 4,
 "nbformat_minor": 2
}
