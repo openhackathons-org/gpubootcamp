{
 "cells": [
  {
   "cell_type": "markdown",
   "metadata": {},
   "source": [
    "# OpenACC Online Course - Lab 1\n",
    "\n",
    "Welcome to the first lab of the OpenACC Online Course. In this lab you     will learn to compile a simple, serial application with the PGI compiler     and parallelize that code for multicore CPUs and NVIDIA GPUs using OpenACC. The lab uses a Jupyter notebook, like this one, and the PGI Compiler. If you are not familiar with Jupyter, you may execute the commands in a cell by pressing ctrl-enter or pressing the \"Run\" button at the top of the page. This lab is available in C or Fortran, please choose the version that best fits your needs below.\n",
    "\n",
    "* [C/C++ Version](C/jupyter_notebook/openacc_c_lab1.ipynb)\n",
    "* [Fortran Version](Fortran/jupyter_notebook/openacc_fortran_lab1.ipynb)"
   ]
  }
 ],
 "metadata": {
  "kernelspec": {
   "display_name": "Python 3",
   "language": "python",
   "name": "python3"
  },
  "language_info": {
   "codemirror_mode": {
    "name": "ipython",
    "version": 3
   },
   "file_extension": ".py",
   "mimetype": "text/x-python",
   "name": "python",
   "nbconvert_exporter": "python",
   "pygments_lexer": "ipython3",
   "version": "3.8.5"
  }
 },
 "nbformat": 4,
 "nbformat_minor": 2
}
