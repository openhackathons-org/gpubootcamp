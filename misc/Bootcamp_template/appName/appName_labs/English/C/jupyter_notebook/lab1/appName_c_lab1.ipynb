{
 "cells": [
  {
   "cell_type": "markdown",
   "metadata": {},
   "source": [
    "Start each lab by giving an overview of what to expect to learn. Avoid using `/edit/` in your notebook as it will change to a fixed path on remote machine. \n",
    "\n",
    "**EXAMPLE**\n",
    "\n",
    "Let's execute the cell below to display information about the GPUs running on the server by running the pgaccelinfo command, which ships with the PGI compiler that we will be using. To do this, execute the cell block below by giving it focus (clicking on it with your mouse), and hitting Ctrl-Enter, or pressing the play button in the toolbar above. If all goes well, you should see some output returned below the grey cell."
   ]
  },
  {
   "cell_type": "code",
   "execution_count": null,
   "metadata": {},
   "outputs": [],
   "source": [
    "!pgaccelinfo"
   ]
  },
  {
   "cell_type": "markdown",
   "metadata": {},
   "source": [
    "## Learning objectives\n",
    "The goal of this lab is to:\n",
    "\n",
    "- What is the goal? what are you trying to teach the user?\n",
    "- What does this notebook cover?\n",
    "\n",
    "We do not intend to cover:\n",
    "\n",
    "- What are you not covering?\n",
    "\n",
    "# Best Practices in creating notebooks for Bootcamps\n",
    "\n",
    "- Please avoid having long notebooks. Try to split notebooks based on the topics you are covering\n",
    "- Please use references when you are using resources. Link them to the \"references\" notebook. See the example used in the \"Heading4\" section.\n",
    "- These are self-paced labs so you have to  make it clear to the user what files to change and list steps on what to do next.\n",
    "- Make sure to show an example output (print output or add screenshots) right after cells. See the example hello world in \"Heading4\" section.\n",
    "- Avoid repeating notebooks. Instead use links and refer to notebooks\n",
    "- Make sure to annotate images/screenshots if needed for clarifications\n",
    "- Avoid having long sentences and blocks of texts. Break them down, add images and let the user run cells and see some outputs.\n",
    "- At the end of each notebook, make sure to add the \"Post-Lab Summary\" section and insturct the user to download the materials in a zip file.\n",
    "\n",
    "# Heading1\n",
    "\n",
    "### Heading3\n",
    "Lorem ipsum dolor sit amet, consectetur adipiscing elit. Vivamus quis sodales neque, ac tincidunt justo. Cras facilisis eget magna non mollis. Donec rutrum vulputate dolor non efficitur. Maecenas porttitor imperdiet accumsan. Etiam ac massa metus. Cras malesuada felis tellus, at pretium velit ullamcorper et. Sed feugiat egestas mi ut vehicula. Nam vel interdum felis. Nam ullamcorper velit ut blandit facilisis. Integer cursus erat ut felis viverra maximus. Phasellus leo lectus, dapibus ut faucibus non, dignissim porttitor neque. Fusce sit amet maximus justo. Vivamus nec tempus nisi. Donec interdum eros et augue mollis, vitae semper arcu semper.\n",
    "\n",
    "- **Lorem** ipsum dolor sit amet\n",
    "- **Lorem** ipsum dolor sit amet\n",
    "- **Lorem** ipsum dolor sit amet\n",
    "\n",
    "<img src=\"../images/Nsight Diagram.png\" width=\"80%\" height=\"80%\">\n",
    "*EXAMPLE image caption: ipsum dolor sit amet*"
   ]
  },
  {
   "cell_type": "markdown",
   "metadata": {},
   "source": [
    "#### Heading4\n",
    "Proin aliquet, odio placerat euismod accumsan, risus est ultrices nisi, quis porttitor libero sapien ac nunc. Donec fringilla eros at dui sagittis, in tempus magna tincidunt. Praesent sem lacus, dapibus id leo ut, laoreet tempus nisi. Class aptent taciti sociosqu ad litora torquent per conubia nostra, per inceptos himenaeos. Ut vehicula est non metus aliquam, faucibus blandit risus tempus. Aenean ultrices turpis nec pretium finibus. Duis ac nisl dui. Nulla bibendum tincidunt ante, ornare convallis sem maximus sit amet. Vivamus vitae velit sed felis feugiat gravida. Suspendisse sagittis non elit consequat auctor. Nunc vulputate posuere neque, vel vulputate diam viverra id. Maecenas faucibus mi arcu, non interdum sem condimentum nec. Curabitur dictum lacus vel felis commodo, et semper urna congue. Donec at ex eros. Nam euismod posuere aliquam. Quisque et faucibus elit [[ref1](../references.ipynb#ref1)].\n",
    "\n",
    "\n",
    "**EXAMPLE CODE**\n",
    "\n",
    "```cpp\n",
    "#include <stdio.h>\n",
    "int main() {\n",
    "   // printf() displays the string inside quotation\n",
    "   printf(\"Hello, World!\");\n",
    "   return 0;\n",
    "}\n",
    "```\n",
    "\n",
    "Inspect the code and make the changes. Once done, run the below cell.\n",
    "\n",
    "[hello world code](../../source_code/lab1/hello_world.cpp)"
   ]
  },
  {
   "cell_type": "code",
   "execution_count": null,
   "metadata": {},
   "outputs": [],
   "source": [
    "!echo \"echoing hello world\""
   ]
  },
  {
   "cell_type": "markdown",
   "metadata": {},
   "source": [
    "You are expect to see the below output:\n",
    "\n",
    "`echoing hello world`\n",
    "\n",
    "**EXAMPLE LINK**\n",
    "\n",
    "Detailed NVTX documentation can be found under the __[CUDA Profiler user guide](https://docs.nvidia.com/cuda/profiler-users-guide/index.html#nvtx)__.\n",
    "\n",
    "## Post-Lab Summary\n",
    "If you would like to download this lab for later viewing, it is recommend you go to your browsers File menu (not the Jupyter notebook file menu) and save the complete web page.  This will ensure the images are copied down as well. You can also execute the following cell block to create a zip-file of the files you've been working on, and download it with the link below."
   ]
  },
  {
   "cell_type": "code",
   "execution_count": null,
   "metadata": {},
   "outputs": [],
   "source": [
    "%%bash\n",
    "cd ..\n",
    "rm -f appName_files.zip\n",
    "zip -r appName_files.zip *"
   ]
  },
  {
   "cell_type": "markdown",
   "metadata": {},
   "source": [
    "**After** executing the above zip command, you should be able to download the zip file [here](../appName_files.zip).You are expect to see the below output:"
   ]
  },
  {
   "cell_type": "markdown",
   "metadata": {},
   "source": [
    "-----\n",
    "\n",
    "# <div style=\"text-align: center ;border:3px; border-style:solid; border-color:#FF0000  ; padding: 1em\">[NEXT](appName_c_lab1.ipynb)</div>\n",
    "\n",
    "-----"
   ]
  },
  {
   "cell_type": "markdown",
   "metadata": {},
   "source": [
    "# Links and Resources\n",
    "\n",
    "Include all the necessary links and resources here including links to download a tool, links for further reading, any slack channel or mailing list you would like them to join.\n",
    "\n",
    "**EXAMPLE**\n",
    "\n",
    "Don't forget to check out additional [OpenACC Resources](https://www.openacc.org/resources) and join our [OpenACC Slack Channel](https://www.openacc.org/community#slack) to share your experience and get more help from the community.\n",
    "\n",
    "--- \n",
    "\n",
    "## Licensing \n",
    "\n",
    "This material is released by OpenACC-Standard.org, in collaboration with NVIDIA Corporation, under the Creative Commons Attribution 4.0 International (CC BY 4.0). "
   ]
  }
 ],
 "metadata": {
  "anaconda-cloud": {},
  "kernelspec": {
   "display_name": "Python 3",
   "language": "python",
   "name": "python3"
  },
  "language_info": {
   "codemirror_mode": {
    "name": "ipython",
    "version": 3
   },
   "file_extension": ".py",
   "mimetype": "text/x-python",
   "name": "python",
   "nbconvert_exporter": "python",
   "pygments_lexer": "ipython3",
   "version": "3.7.4"
  }
 },
 "nbformat": 4,
 "nbformat_minor": 4
}
