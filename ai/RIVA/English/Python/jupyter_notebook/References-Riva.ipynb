{
 "cells": [
  {
   "cell_type": "markdown",
   "metadata": {},
   "source": [
    "[Return to Home Page](START_HERE_RIVA.ipynb)"
   ]
  },
  {
   "cell_type": "markdown",
   "metadata": {},
   "source": [
    "# References\n",
    "\n",
    "- https://ngc.nvidia.com/catalog/collections/nvidia:jarvis/\n",
    "- https://developer.nvidia.com/nvidia-jarvis\n",
    "- https://ngc.nvidia.com/catalog/models/nvidia:tlt-jarvis:speechtotext_english_citrinet\n",
    "- https://developer.nvidia.com/blog/introducing-jarvis-framework-for-gpu-accelerated-conversational-ai-apps/\n",
    "- http://man.hubwiz.com/docset/LibROSA.docset/Contents/Resources/Documents/core.html#audio-processing\n"
   ]
  },
  {
   "cell_type": "markdown",
   "metadata": {},
   "source": [
    "[Return to Home Page](START_HERE_RIVA.ipynb)"
   ]
  },
  {
   "cell_type": "code",
   "execution_count": null,
   "metadata": {},
   "outputs": [],
   "source": []
  }
 ],
 "metadata": {
  "kernelspec": {
   "display_name": "Python 3",
   "language": "python",
   "name": "python3"
  },
  "language_info": {
   "codemirror_mode": {
    "name": "ipython",
    "version": 3
   },
   "file_extension": ".py",
   "mimetype": "text/x-python",
   "name": "python",
   "nbconvert_exporter": "python",
   "pygments_lexer": "ipython3",
   "version": "3.7.4"
  }
 },
 "nbformat": 4,
 "nbformat_minor": 4
}
