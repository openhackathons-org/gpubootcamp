{
 "cells": [
  {
   "cell_type": "markdown",
   "id": "demanding-antibody",
   "metadata": {},
   "source": [
    "# Punctuation and Capitalization Model in RIVA - Exercise"
   ]
  },
  {
   "cell_type": "markdown",
   "id": "federal-quarterly",
   "metadata": {},
   "source": [
    "[Transfer Learning Toolkit (TLT)](https://developer.nvidia.com/transfer-learning-toolkit) provides the capability to export your model in a format that can deployed using NVIDIA [Riva](https://developer.nvidia.com/riva), a highly performant application framework for multi-modal conversational AI services using GPUs.\n",
    "\n",
    "This tutorial explores taking an .riva model, the result of `tlt punctuation_and_capitalization export` command, and leveraging the Riva ServiceMaker framework to aggregate all the necessary artifacts for Riva deployment to a target environment. Once the model is deployed in Riva, you can issue inference requests to the server. We will demonstrate how quick and straightforward this whole process is."
   ]
  },
  {
   "cell_type": "markdown",
   "id": "involved-rider",
   "metadata": {},
   "source": [
    "## Learning Objectives\n",
    "\n",
    "In this notebook, you will learn how to:  \n",
    "- Use Riva ServiceMaker to take a TLT exported .riva and convert it to .rmir\n",
    "- Deploy the model(s) locally  on the Riva Server\n",
    "- Send inference requests from a demo client using Riva API bindings."
   ]
  },
  {
   "cell_type": "markdown",
   "id": "unusual-trance",
   "metadata": {},
   "source": [
    "## Prerequisites\n",
    "Before going through the jupyter notebook, please make sure:\n",
    "- You have access to NVIDIA NGC, and are able to download the Riva Quickstart [resources](https://ngc.nvidia.com/catalog/resources/nvidia:riva:riva_quickstart)\n",
    "- Have an .riva model file that you wish to deploy. You can obtain this from ``tlt <task> export`` (with ``export_format=RIVA``). \n",
    "- You have followed the instruction in the setup notebook to setup, deploy and run the Riva Service\n",
    "\n",
    "<b>NOTE:</b> Please refer to the tutorial on *Punctuation And Capitalization using Transfer Learning Toolkit* for more details on training and exporting an .riva model for punctuation and capitalization task."
   ]
  },
  {
   "cell_type": "markdown",
   "id": "perfect-kuwait",
   "metadata": {},
   "source": [
    "###  Riva-deploy\n",
    "\n",
    "The deployment tool takes as input one or more Riva Model Intermediate Representation (RMIR) files and a target model repository directory. It creates an ensemble configuration specifying the pipeline for the execution and finally writes all those assets to the output model repository directory."
   ]
  },
  {
   "cell_type": "code",
   "execution_count": null,
   "id": "aware-credits",
   "metadata": {},
   "outputs": [],
   "source": [
    "# Syntax: riva-deploy -f dir-for-rmir/model.rmir:key output-dir-for-repository\n",
    "!docker run --rm --gpus all -v $MODEL_LOC:/data $RIVA_SM_CONTAINER -- \\\n",
    "     riva-deploy -f /data/punct-capit.rmir:$KEY /data/models"
   ]
  },
  {
   "cell_type": "markdown",
   "id": "valued-chapel",
   "metadata": {},
   "source": [
    "## Start Riva Server\n",
    "\n",
    "Once the model repository is generated, we are ready to start the Riva server. From this step you need to have a running Riva server, which can be done by using the steps shown in the setup notebook. "
   ]
  },
  {
   "cell_type": "code",
   "execution_count": null,
   "id": "considered-voluntary",
   "metadata": {},
   "outputs": [],
   "source": [
    "### Set the path to Riva directory\n",
    "RIVA_DIR = <path_to_riva_quickstart>"
   ]
  },
  {
   "cell_type": "markdown",
   "id": "young-table",
   "metadata": {},
   "source": [
    "Note: you can modify ``config.sh`` (as shown in the setup notebook) to enable relevant Riva services (nlp for Punctuation & Capitalization model), provide the encryption key, and path to the model repository (``riva_model_loc``) generated in the previous step among other configurations.\n",
    "\n",
    "Pretrained versions of models specified in models_asr/nlp/tts are fetched from NGC. Since we are using our custom model, we can comment it in models_nlp (and any others that are not relevant to our use case). "
   ]
  },
  {
   "cell_type": "markdown",
   "id": "chief-greensboro",
   "metadata": {},
   "source": [
    "## Run Inference\n",
    "Once the Riva server is up and running with your models, you can send inference requests querying the server. \n",
    "\n",
    "To send GRPC requests, you can install Riva Python API bindings for client. This is available as a pip .whl with the QuickStart."
   ]
  },
  {
   "cell_type": "code",
   "execution_count": null,
   "id": "inappropriate-tomato",
   "metadata": {},
   "outputs": [],
   "source": [
    "# IMPORTANT: Set the name of the whl file\n",
    "RIVA_API_WHL = \"<add riva api .whl file name>\""
   ]
  },
  {
   "cell_type": "code",
   "execution_count": null,
   "id": "pediatric-junior",
   "metadata": {},
   "outputs": [],
   "source": [
    "# Install client API bindings\n",
    "!cd $RIVA_DIR && pip install $RIVA_API_WHL"
   ]
  },
  {
   "cell_type": "markdown",
   "id": "temporal-sense",
   "metadata": {},
   "source": [
    "Run the following sample code from within the client docker container:"
   ]
  },
  {
   "cell_type": "code",
   "execution_count": null,
   "id": "decreased-excitement",
   "metadata": {},
   "outputs": [],
   "source": [
    "import grpc\n",
    "import argparse\n",
    "import os\n",
    "import riva_api.riva_nlp_pb2 as rnlp\n",
    "import riva_api.riva_nlp_pb2_grpc as rnlp_srv\n",
    "\n",
    "class BertPunctuatorClient(object):\n",
    "    def __init__(self, grpc_server, model_name=\"riva_punctuation\"):\n",
    "        # generate the correct model based on precision and whether or not ensemble is used\n",
    "        print(\"Using model: {}\".format(model_name))\n",
    "        self.model_name = model_name\n",
    "        self.channel = grpc.insecure_channel(grpc_server)\n",
    "        self.riva_nlp = rnlp_srv.RivaLanguageUnderstandingStub(self.channel)\n",
    "\n",
    "        self.has_bos = True\n",
    "        self.has_eos = False\n",
    "\n",
    "    def run(self, input_strings):\n",
    "        if isinstance(input_strings, str):\n",
    "            # user probably passed a single string instead of a list/iterable\n",
    "            input_strings = [input_strings]\n",
    "\n",
    "        request = rnlp.TextTransformRequest()\n",
    "        request.model.model_name = self.model_name\n",
    "        for q in input_strings:\n",
    "            request.text.append(q)\n",
    "        response = self.riva_nlp.TransformText(request)\n",
    "\n",
    "        return response.text[0]\n",
    "\n",
    "def run_punct_capit(server,model,query):\n",
    "    print(\"Client app to test punctuation and capitalization on Riva\")\n",
    "    client = BertPunctuatorClient(server, model_name=model)\n",
    "    result = client.run(query)\n",
    "    print(result)"
   ]
  },
  {
   "cell_type": "code",
   "execution_count": null,
   "id": "labeled-western",
   "metadata": {},
   "outputs": [],
   "source": [
    "run_punct_capit(server=\"localhost:50051\",\n",
    "                model=\"riva_punctuation\",\n",
    "                query=\"how are you doing\")"
   ]
  },
  {
   "cell_type": "markdown",
   "id": "lined-roberts",
   "metadata": {},
   "source": [
    "You can stop all docker container before shutting down the jupyter kernel."
   ]
  },
  {
   "cell_type": "code",
   "execution_count": null,
   "id": "hybrid-album",
   "metadata": {},
   "outputs": [],
   "source": [
    "!docker stop $(docker ps -a -q)"
   ]
  },
  {
   "cell_type": "code",
   "execution_count": 1,
   "id": "03d4bb1b",
   "metadata": {},
   "outputs": [],
   "source": [
    "## The following shows how to run the punctuation service using the Python client API\n"
   ]
  },
  {
   "cell_type": "code",
   "execution_count": null,
   "id": "b9ff33a0",
   "metadata": {},
   "outputs": [],
   "source": [
    "# Use the TextTransform API to run the punctuation model\n",
    "req = rnlp.TextTransformRequest()\n",
    "req.model.model_name = \"riva_punctuation\"\n",
    "req.text.append(\"add punctuation to this sentence\")\n",
    "req.text.append(\"do you have any red nvidia shirts\")\n",
    "req.text.append(\"i need one cpu four gpus and lots of memory \"\n",
    "                \"for my new computer it's going to be very cool\")\n",
    "\n",
    "nlp_resp = riva_nlp.TransformText(req)\n",
    "print(\"TransformText Output:\")\n",
    "print(\"\\n\".join([f\" {x}\" for x in nlp_resp.text]))"
   ]
  },
  {
   "cell_type": "markdown",
   "id": "f679d61c",
   "metadata": {},
   "source": [
    "### Exercise\n",
    "\n",
    "Use the punctuation service to modify the following paragraph:\n",
    "\n",
    "winston is one of the most laid-back people i know he is tall and slim with black hair and he always wears a t-shirt and black jeans his jeans have holes in them and his baseball boots are scruffy too he usually sits at the back of the class and he often seems to be asleep however when the exam results are given out he always gets an \"A\" i don't think hes as lazy as he appears to be"
   ]
  },
  {
   "cell_type": "code",
   "execution_count": null,
   "id": "346836bb",
   "metadata": {},
   "outputs": [],
   "source": []
  }
 ],
 "metadata": {
  "kernelspec": {
   "display_name": "Python 3",
   "language": "python",
   "name": "python3"
  },
  "language_info": {
   "codemirror_mode": {
    "name": "ipython",
    "version": 3
   },
   "file_extension": ".py",
   "mimetype": "text/x-python",
   "name": "python",
   "nbconvert_exporter": "python",
   "pygments_lexer": "ipython3",
   "version": "3.8.8"
  }
 },
 "nbformat": 4,
 "nbformat_minor": 5
}
