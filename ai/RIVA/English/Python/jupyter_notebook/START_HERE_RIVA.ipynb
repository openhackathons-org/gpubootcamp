{
 "cells": [
  {
   "cell_type": "markdown",
   "metadata": {},
   "source": [
    "# GPU BOOTCAMP FOR RIVA"
   ]
  },
  {
   "cell_type": "markdown",
   "metadata": {},
   "source": [
    "This repository consists of gpu bootcamp material for RIVA. The RIVA frameworks of libraries, APIs and models allows you to build, optimize and deploy voice and speech centric applications and models based entirely on GPUs. In this series you can access RIVA learning resources in the form of labs. The modules covered in this Bootcamp are SpeechToText, Intent Slot Classification, Named Entity Recognition, Question-Answering and Challenge. To access each module individually, you can refer to the respective folders in this repository. "
   ]
  },
  {
   "cell_type": "markdown",
   "metadata": {},
   "source": [
    "## Contents\n",
    "\n",
    "This RIVA Bootcamp will be covering some interesting libraries that demonstrate the capabilities of the frameworks and tasks related to building voice based applications and interfaces. Each module has a backup exercise notebook that you can refer to incase you wish to recover some cells in a lab that you deleted by mistake. Here are the modules in this tutorial:\n",
    "\n",
    "- Introduction\n",
    "    - [Introduction to RIVA](Intro/Intro_To_Riva.ipynb)\n",
    "\n",
    "- Setup\n",
    "    - [RIVA Setup and basic configuration](Intro/riva-setup.ipynb)\n",
    "\n",
    "\n",
    "- SpeechToText\n",
    "    - [SpeechToText Training](STT/speech-to-text-training.ipynb)\n",
    "    - [SpeechToText Deployment](STT/speech-to-text-deployment.ipynb)\n",
    "    - [Exercise](STT/speechtotext-Exercise.ipynb)\n",
    "    - [Backup](STT/Backup.ipynb)\n",
    " \n",
    "\n",
    "- Question Answering\n",
    "    - [Question Answering Training](QA/question-answering-training.ipynb)\n",
    "    - [Question Answering Deployment](QA/question-answering-deployment.ipynb)\n",
    "    - [Exercise](QA/question-answering-Exercise.ipynb)\n",
    "    - [Backup](QA/Backup.ipynb)\n",
    "\n",
    "\n",
    "- Named Entity Recognition (Token Classification)\n",
    "    - [Named Entity Recognition Training](NER/token-classification-training.ipynb)\n",
    "    - [Named Entity Recognition Deployment](NER/token-classification-deployment.ipynb)\n",
    "    - [Exercise](NER/token-classification-Exercise.ipynb)\n",
    "    - [Backup](NER/Backup.ipynb)\n",
    "\n",
    "- Text Classification \n",
    "    - [Text CLassification Training](NER/token-classification-training.ipynb)\n",
    "    - [Text Classification Deployment](NER/token-classification-deployment.ipynb)\n",
    "    - [Exercise](NER/token-classification-Exercise.ipynb)\n",
    "    - [Backup](NER/Backup.ipynb)\n",
    "\n",
    "- Intent Slot Classification\n",
    "    - [Intent Slot Classification Training](NER/token-classification-training.ipynb)\n",
    "    - [Intent Slot Classification Deployment](NER/token-classification-deployment.ipynb)\n",
    "    - [Exercise](NER/token-classification-Exercise.ipynb)\n",
    "    - [Backup](NER/Backup.ipynb)\n",
    "\n",
    "- Punctuation \n",
    "    - [Punctuation Training](NER/token-classification-training.ipynb)\n",
    "    - [Punctuation Deployment](NER/token-classification-deployment.ipynb)\n",
    "    - [Exercise](NER/token-classification-Exercise.ipynb)\n",
    "    - [Backup](NER/Backup.ipynb)\n",
    "\n",
    "- Challenge\n",
    "\n",
    "    - Semantic Index Builder \n",
    "        - [Challenge](Challenge/Challenge.ipynb)\n",
    "        - [Backup](Challenge/Backup.ipynb)\n",
    "\n",
    "- [Acknowledgement and References](References-Riva.ipynb)\n",
    "\n",
    "                     \n",
    "\n",
    "\n",
    "Note: The challenge is an extra module that you can try after learning the individual modules to test your knowledge.\n"
   ]
  },
  {
   "cell_type": "markdown",
   "metadata": {},
   "source": [
    "For more information on RIVA, feel free to explore the official resources and documentation here:\n",
    "- https://developer.nvidia.com/riva\n"
   ]
  },
  {
   "cell_type": "markdown",
   "metadata": {},
   "source": [
    "## Licensing\n",
    "  \n",
    "This material is released by NVIDIA Corporation under the Creative Commons Attribution 4.0 International (CC BY 4.0)."
   ]
  }
 ],
 "metadata": {
  "kernelspec": {
   "display_name": "Python 3",
   "language": "python",
   "name": "python3"
  },
  "language_info": {
   "codemirror_mode": {
    "name": "ipython",
    "version": 3
   },
   "file_extension": ".py",
   "mimetype": "text/x-python",
   "name": "python",
   "nbconvert_exporter": "python",
   "pygments_lexer": "ipython3",
   "version": "3.6.2"
  }
 },
 "nbformat": 4,
 "nbformat_minor": 4
}
