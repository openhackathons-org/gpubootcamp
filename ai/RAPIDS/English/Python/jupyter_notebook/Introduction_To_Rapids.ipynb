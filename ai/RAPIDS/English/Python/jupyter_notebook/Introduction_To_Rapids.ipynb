{
 "cells": [
  {
   "cell_type": "markdown",
   "metadata": {},
   "source": [
    "[Return to Home Page](START_HERE.ipynb)"
   ]
  },
  {
   "cell_type": "markdown",
   "metadata": {},
   "source": [
    "# RAPIDS"
   ]
  },
  {
   "cell_type": "markdown",
   "metadata": {},
   "source": [
    "The RAPIDS suite of open source software libraries and APIs gives you the ability to execute end-to-end data science and analytics pipelines entirely on GPUs. Licensed under Apache 2.0, RAPIDS is incubated by NVIDIA® based on extensive hardware and data science science experience. RAPIDS utilizes NVIDIA CUDA® primitives for low-level compute optimization, and exposes GPU parallelism and high-bandwidth memory speed through user-friendly Python interfaces."
   ]
  },
  {
   "cell_type": "markdown",
   "metadata": {},
   "source": [
    "<img src=\"imgs/pipeline.png\" height=\"800\" width=\"800\">"
   ]
  },
  {
   "cell_type": "markdown",
   "metadata": {},
   "source": [
    "#### Key Features? \n",
    "- Hassle-Free Integration: Accelerate your Python data science toolchain with minimal code changes and no new tools to learn \n",
    "- Top Model Accuracy: Increase machine learning model accuracy by iterating on models faster and deploying them more frequently\n",
    "- Reduced Training Time: RAPIDS is primarily targeted for Data Scientist who are looking at improving performance of their experiments without losing out on accuracy. Drastically improve your productivity with near-interactive data science.\n",
    "- Open Source: Customizable, extensible, interoperable - the open-source software is supported by NVIDIA and built on Apache Arrow. It can be donwloaded from [here](https://github.com/rapidsai) . Also RAPIDS is presnet as a container in NGC and can be downloaded from [here](https://ngc.nvidia.com/catalog/containers/nvidia:rapidsai:rapidsai)\n"
   ]
  },
  {
   "cell_type": "markdown",
   "metadata": {},
   "source": [
    "## How is RAPIDS changing the landscape of Data Science?"
   ]
  },
  {
   "cell_type": "markdown",
   "metadata": {},
   "source": [
    "#### Traditional Data Science Ecosystem\n",
    "\n",
    "<img src=\"imgs/datascience.png\" height=\"800\" width=\"800\">\n",
    "\n",
    "\n",
    "#### RAPIDS Ecosystem\n",
    "\n",
    "<img src=\"imgs/rapids_gpu_stack.png\" height=\"800\" width=\"800\">\n",
    "\n",
    "You may notice the Arrow component in GPU memory. Arrow defines a language-independent columnar memory format for flat and hierarchical data, organized for efficient analytic operations on modern hardware like CPUs and GPUs. The Arrow memory format also supports zero-copy reads for lightning-fast data access without serialization overhead.The Apache Arrow format allows computational routines and execution engines to maximize their efficiency when scanning and iterating large chunks of data. In particular, the contiguous columnar layout enables vectorization using the latest SIMD (Single Instruction, Multiple Data) operations included in modern processors."
   ]
  },
  {
   "cell_type": "markdown",
   "metadata": {},
   "source": [
    "## What does this series cover?\n",
    "\n",
    "This RAPIDS Bootcamp will be covering some interesting libraries that are easily integratable with the daily data science pipeline and accelerate computations for faster execution. Here are the modules in this tutorial:\n",
    "\n",
    "- [CuDF](CuDF/01-Intro_to_cuDF.ipynb)\n",
    "- [CuML](CuML/01-LinearRegression-Hyperparam.ipynb)\n",
    "- [Dask](Dask/01-Intro_to_Dask.ipynb)\n",
    "- [Challenge](Challenge/Gene-Expression-Classification/Challenge.ipynb)\n",
    "\n",
    "The challenge is an extra module that you can try after learning the individual modules to test your knowledge."
   ]
  },
  {
   "cell_type": "markdown",
   "metadata": {},
   "source": [
    "For more information on RAPIDS, feel free to explore the official documentation here:\n",
    "- https://rapids.ai/about.html\n",
    "- https://github.com/rapidsai"
   ]
  },
  {
   "cell_type": "markdown",
   "metadata": {},
   "source": [
    "## Licensing\n",
    "  \n",
    "This material is released by OpenACC-Standard.org, in collaboration with NVIDIA Corporation, under the Creative Commons Attribution 4.0 International (CC BY 4.0).\n",
    "\n",
    "\n"
   ]
  },
  {
   "cell_type": "markdown",
   "metadata": {},
   "source": [
    "[Return to Home Page](START_HERE.ipynb)"
   ]
  }
 ],
 "metadata": {
  "kernelspec": {
   "display_name": "Python 3",
   "language": "python",
   "name": "python3"
  },
  "language_info": {
   "codemirror_mode": {
    "name": "ipython",
    "version": 3
   },
   "file_extension": ".py",
   "mimetype": "text/x-python",
   "name": "python",
   "nbconvert_exporter": "python",
   "pygments_lexer": "ipython3",
   "version": "3.7.4"
  }
 },
 "nbformat": 4,
 "nbformat_minor": 4
}
