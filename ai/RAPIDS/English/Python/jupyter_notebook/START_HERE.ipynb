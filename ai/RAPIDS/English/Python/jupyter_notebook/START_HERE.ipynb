{
 "cells": [
  {
   "cell_type": "markdown",
   "metadata": {},
   "source": [
    "# GPU BOOTCAMP FOR RAPIDS"
   ]
  },
  {
   "cell_type": "markdown",
   "metadata": {},
   "source": [
    "This repository consists of gpu bootcamp material for RAPIDS AI. The RAPIDS suite of open source software libraries gives you the freedom to execute end-to-end data science and analytics pipelines entirely on GPUs. In this series you can access RAPIDS learning resources in the form of labs. The modules covered in this Bootcamp are CuDF, CuML, Dask and Challenge. To access each module individually, you can refer to the respective folders in this repository. "
   ]
  },
  {
   "cell_type": "markdown",
   "metadata": {},
   "source": [
    "## Contents\n",
    "\n",
    "This RAPIDS Bootcamp will be covering some interesting libraries that are easily integratable with the daily data science pipeline and accelerate computations for faster execution. Each module has a backup exercise notebook that you can refer to incase you wish to recover some cells in a lab that you deleted by mistake. Here are the modules in this tutorial:\n",
    "\n",
    "- Introduction\n",
    "    - [Introduction to RAPIDS](Introduction_To_Rapids.ipynb)\n",
    "    - [Acknowledgement and References](References.ipynb)\n",
    "    \n",
    "\n",
    "- CuDF\n",
    "    - [Introduction To CuDF](CuDF/01-Intro_to_cuDF.ipynb)\n",
    "    - [Introduction To UDFs](CuDF/02-Intro_to_cuDF_UDFs.ipynb)\n",
    "    - [Exercise](CuDF/03-Cudf_Exercise.ipynb)\n",
    "    - [Backup](CuDF/Backup.ipynb)\n",
    "    \n",
    "    \n",
    "    \n",
    "- CuML\n",
    "    - [Linear Regression and Hyperparameter Tuning](CuML/01-LinearRegression-Hyperparam.ipynb)\n",
    "    - [Exercise](CuML/03_CuML_Exercise.ipynb)\n",
    "    - [Backup](CuML/Backup.ipynb)\n",
    "    - [Bonus Lab- Logistic Regression and CuPy](CuML/Bonus_Lab-LogisticRegression.ipynb)\n",
    "    \n",
    "    \n",
    "    \n",
    "- Dask\n",
    "    - [Introduction to Dask](Dask/01-Intro_to_Dask.ipynb)\n",
    "    - [Dask-cuDF](Dask/02-CuDF_and_Dask.ipynb)\n",
    "    - [Dask-cuML](Dask/03-CuML_and_Dask.ipynb)\n",
    "    - [Exercise](Dask/04-Challenge.ipynb)\n",
    "    - [Backup](Dask/Backup.ipynb)\n",
    "    \n",
    "    \n",
    "\n",
    "\n",
    "- Challenge\n",
    "\n",
    "    - Gene Expression Classification\n",
    "        - [Challenge](Challenge/Gene-Expression-Classification/Challenge.ipynb)\n",
    "        - [Backup](Challenge/Gene-Expression-Classification/Backup.ipynb)\n",
    "                     \n",
    "    - Bike Rental Prediction\n",
    "        - [Challenge](Challenge/Bike-Rental-Prediction/Challenge.ipynb)\n",
    "        - [Backup](Challenge/Bike-Rental-Prediction/Backup.ipynb)\n",
    "\n",
    "\n",
    "\n",
    "Note: The challenge is an extra module that you can try after learning the individual modules to test your knowledge.\n"
   ]
  },
  {
   "cell_type": "markdown",
   "metadata": {},
   "source": [
    "For more information on RAPIDS, feel free to explore the official documentation here:\n",
    "- https://rapids.ai/about.html\n",
    "- https://github.com/rapidsai"
   ]
  },
  {
   "cell_type": "markdown",
   "metadata": {},
   "source": [
    "## Licensing\n",
    "  \n",
    "This material is released by OpenACC-Standard.org, in collaboration with NVIDIA Corporation, under the Creative Commons Attribution 4.0 International (CC BY 4.0)."
   ]
  }
 ],
 "metadata": {
  "kernelspec": {
   "display_name": "Python 3",
   "language": "python",
   "name": "python3"
  },
  "language_info": {
   "codemirror_mode": {
    "name": "ipython",
    "version": 3
   },
   "file_extension": ".py",
   "mimetype": "text/x-python",
   "name": "python",
   "nbconvert_exporter": "python",
   "pygments_lexer": "ipython3",
   "version": "3.7.4"
  }
 },
 "nbformat": 4,
 "nbformat_minor": 4
}
